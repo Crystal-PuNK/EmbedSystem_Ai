{
 "cells": [
  {
   "cell_type": "code",
   "execution_count": 1,
   "metadata": {},
   "outputs": [],
   "source": [
    "import cv2\n",
    "import matplotlib.pyplot as plt\n",
    "import numpy as np"
   ]
  },
  {
   "cell_type": "code",
   "execution_count": 2,
   "metadata": {},
   "outputs": [],
   "source": [
    "v = cv2.VideoCapture(0)"
   ]
  },
  {
   "cell_type": "code",
   "execution_count": 3,
   "metadata": {},
   "outputs": [],
   "source": [
    "if v.isOpened():\n",
    "    open,frame = v.read()\n",
    "else:\n",
    "    open = False"
   ]
  },
  {
   "cell_type": "code",
   "execution_count": 4,
   "metadata": {},
   "outputs": [
    {
     "data": {
      "text/plain": [
       "(1080, 1920, 3)"
      ]
     },
     "execution_count": 4,
     "metadata": {},
     "output_type": "execute_result"
    }
   ],
   "source": [
    "frame.shape"
   ]
  },
  {
   "cell_type": "code",
   "execution_count": 5,
   "metadata": {},
   "outputs": [
    {
     "name": "stdout",
     "output_type": "stream",
     "text": [
      "保存成功！\n"
     ]
    }
   ],
   "source": [
    "cv2.startWindowThread()\n",
    "watermark_text = 'Press [Space] to take a Photo!'\n",
    "while open:\n",
    "    re,frame = v.read()\n",
    "    if frame is None:\n",
    "        break\n",
    "    if re==True:\n",
    "        frame = cv2.resize(frame,(1920,1080),fx=0.5,fy=0.5)   \n",
    "        if cv2.waitKey(25) & 0xFF == 27:\n",
    "            break\n",
    "        if cv2.waitKey(25) & 0xFF == 32:\n",
    "            cv2.imwrite('capture.jpg',frame)\n",
    "            print('保存成功！')\n",
    "            break\n",
    "        cv2.putText(frame, watermark_text, (10, 30), cv2.FONT_HERSHEY_SIMPLEX, 1, (0, 0, 255), 2)   \n",
    "        cv2.imshow('result',frame)\n",
    "v.release()\n",
    "cv2.destroyAllWindows()\n",
    "\n"
   ]
  }
 ],
 "metadata": {
  "kernelspec": {
   "display_name": "base",
   "language": "python",
   "name": "python3"
  },
  "language_info": {
   "codemirror_mode": {
    "name": "ipython",
    "version": 3
   },
   "file_extension": ".py",
   "mimetype": "text/x-python",
   "name": "python",
   "nbconvert_exporter": "python",
   "pygments_lexer": "ipython3",
   "version": "3.9.13"
  },
  "orig_nbformat": 4
 },
 "nbformat": 4,
 "nbformat_minor": 2
}
