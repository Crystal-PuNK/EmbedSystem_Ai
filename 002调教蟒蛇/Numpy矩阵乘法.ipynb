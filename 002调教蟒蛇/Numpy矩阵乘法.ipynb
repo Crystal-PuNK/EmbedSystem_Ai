{
 "cells": [
  {
   "cell_type": "markdown",
   "metadata": {},
   "source": [
    "# Numpy 矩阵乘法\n",
    "> 2022090909003 李晨熙"
   ]
  },
  {
   "cell_type": "code",
   "execution_count": 1,
   "metadata": {},
   "outputs": [],
   "source": [
    "import numpy as np"
   ]
  },
  {
   "cell_type": "markdown",
   "metadata": {},
   "source": [
    "### 创建两个80\\*60和60\\*80的矩阵"
   ]
  },
  {
   "cell_type": "code",
   "execution_count": 2,
   "metadata": {},
   "outputs": [],
   "source": [
    "matrix_01 = np.zeros((60,80))\n",
    "matrix_02 = np.zeros((80,60))"
   ]
  },
  {
   "cell_type": "markdown",
   "metadata": {},
   "source": [
    "### 循环给两个矩阵赋值114514和1919810"
   ]
  },
  {
   "cell_type": "code",
   "execution_count": 4,
   "metadata": {},
   "outputs": [
    {
     "name": "stdout",
     "output_type": "stream",
     "text": [
      "[[1. 1. 1. ... 1. 1. 1.]\n",
      " [1. 1. 4. ... 4. 1. 1.]\n",
      " [1. 4. 1. ... 1. 1. 4.]\n",
      " ...\n",
      " [1. 5. 1. ... 5. 1. 5.]\n",
      " [1. 1. 4. ... 4. 1. 1.]\n",
      " [1. 4. 1. ... 1. 1. 4.]]\n",
      "[[1. 1. 1. ... 1. 1. 1.]\n",
      " [1. 9. 1. ... 9. 1. 9.]\n",
      " [1. 1. 8. ... 1. 8. 0.]\n",
      " ...\n",
      " [1. 1. 1. ... 1. 1. 1.]\n",
      " [1. 9. 1. ... 9. 1. 9.]\n",
      " [1. 1. 8. ... 1. 8. 0.]]\n"
     ]
    }
   ],
   "source": [
    "a = [1,1,4,5,1,4]\n",
    "b = [1,9,1,9,8,1,0]\n",
    "for i in range (60):\n",
    "    for j in range (80):\n",
    "        matrix_01[i,j] = a[(i*j)%6]\n",
    "        matrix_02[j,i] = b[(i*j)%7]\n",
    "print(matrix_01)\n",
    "print(matrix_02)"
   ]
  },
  {
   "cell_type": "markdown",
   "metadata": {},
   "source": [
    "### 矩阵相乘"
   ]
  },
  {
   "cell_type": "code",
   "execution_count": 5,
   "metadata": {},
   "outputs": [
    {
     "name": "stdout",
     "output_type": "stream",
     "text": [
      "[[ 80. 330. 329. ... 330. 329. 329.]\n",
      " [210. 851. 870. ... 851. 870. 878.]\n",
      " [161. 675. 650. ... 675. 650. 650.]\n",
      " ...\n",
      " [240. 994. 985. ... 994. 985. 989.]\n",
      " [158. 651. 674. ... 651. 674. 650.]\n",
      " [213. 875. 846. ... 875. 846. 878.]]\n"
     ]
    }
   ],
   "source": [
    "result = np.dot(matrix_01,matrix_02)\n",
    "print(result)"
   ]
  }
 ],
 "metadata": {
  "kernelspec": {
   "display_name": "Embed",
   "language": "python",
   "name": "python3"
  },
  "language_info": {
   "codemirror_mode": {
    "name": "ipython",
    "version": 3
   },
   "file_extension": ".py",
   "mimetype": "text/x-python",
   "name": "python",
   "nbconvert_exporter": "python",
   "pygments_lexer": "ipython3",
   "version": "3.10.12"
  },
  "orig_nbformat": 4
 },
 "nbformat": 4,
 "nbformat_minor": 2
}
